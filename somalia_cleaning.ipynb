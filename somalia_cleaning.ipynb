{
  "nbformat": 4,
  "nbformat_minor": 0,
  "metadata": {
    "colab": {
      "provenance": []
    },
    "kernelspec": {
      "name": "python3",
      "display_name": "Python 3"
    },
    "language_info": {
      "name": "python"
    }
  },
  "cells": [
    {
      "cell_type": "code",
      "execution_count": null,
      "metadata": {
        "id": "tW6Qgb-tDjB_"
      },
      "outputs": [],
      "source": [
        "import pandas as pd"
      ]
    },
    {
      "cell_type": "code",
      "source": [
        "somalia = pd.read_excel(\"/content/drive/MyDrive/Upwork/Somalia Survey Location and Sector Data.xlsx\", skiprows=1)"
      ],
      "metadata": {
        "id": "wU02GZ-bDnPf"
      },
      "execution_count": null,
      "outputs": []
    },
    {
      "cell_type": "code",
      "source": [
        "somalia.head()"
      ],
      "metadata": {
        "id": "x6znbvfBRukM"
      },
      "execution_count": null,
      "outputs": []
    },
    {
      "cell_type": "code",
      "source": [
        "somalia1 = somalia.iloc[:, :25]\n"
      ],
      "metadata": {
        "id": "4CyPcgKdEI6-"
      },
      "execution_count": null,
      "outputs": []
    },
    {
      "cell_type": "code",
      "source": [
        "somalia1.info()"
      ],
      "metadata": {
        "colab": {
          "base_uri": "https://localhost:8080/"
        },
        "id": "bLcFGgQjFP-h",
        "outputId": "015d6213-d9aa-41ad-8445-3e2c524e7e46"
      },
      "execution_count": null,
      "outputs": [
        {
          "output_type": "stream",
          "name": "stdout",
          "text": [
            "<class 'pandas.core.frame.DataFrame'>\n",
            "RangeIndex: 30 entries, 0 to 29\n",
            "Data columns (total 25 columns):\n",
            " #   Column                                                                                                         Non-Null Count  Dtype  \n",
            "---  ------                                                                                                         --------------  -----  \n",
            " 0   Unnamed: 0                                                                                                     30 non-null     object \n",
            " 1   Galmudug - Maintain a physical office with at least one staff (full or part time)                              10 non-null     object \n",
            " 2   Galmudug - Actively work in (in the last 12 months), but do not maintain office /staff full or part time       3 non-null      object \n",
            " 3   Galmudug - Do not actively work                                                                                4 non-null      object \n",
            " 4   Hirshabelle - Maintain a physical office with at least one staff (full or part time)                           8 non-null      object \n",
            " 5   Hirshabelle - Actively work in (in the last 12 months), but do not maintain office /staff full or part time    3 non-null      object \n",
            " 6   Hirshabelle - Do not actively work                                                                             4 non-null      object \n",
            " 7   Jubaland - Maintain a physical office with at least one staff (full or part time)                              9 non-null      object \n",
            " 8   Jubaland - Actively work in (in the last 12 months), but do not maintain office /staff full or part time       4 non-null      object \n",
            " 9   Jubaland - Do not actively work                                                                                3 non-null      object \n",
            " 10  Puntland - Maintain a physical office with at least one staff (full or part time)                              9 non-null      object \n",
            " 11  Puntland - Actively work in (in the last 12 months), but do not maintain office /staff full or part time       2 non-null      object \n",
            " 12  Puntland - Do not actively work                                                                                5 non-null      object \n",
            " 13  South West - Maintain a physical office with at least one staff (full or part time)                            13 non-null     object \n",
            " 14  South West - Actively work in (in the last 12 months), but do not maintain office /staff full or part time     6 non-null      object \n",
            " 15  South West - Do not actively work                                                                              3 non-null      object \n",
            " 16  Somaliland - Maintain a physical office with at least one staff (full or part time)                            8 non-null      object \n",
            " 17  Somaliland - Actively work in (in the last 12 months), but do not maintain office /staff full or part time     0 non-null      float64\n",
            " 18  Somaliland - Do not actively work                                                                              3 non-null      object \n",
            " 19  Mogadishu/BRA - Maintain a physical office with at least one staff (full or part time)                         13 non-null     object \n",
            " 20  Mogadishu/BRA - Actively work in (in the last 12 months), but do not maintain office /staff full or part time  6 non-null      object \n",
            " 21  Mogadishu/BRA - Do not actively work                                                                           2 non-null      object \n",
            " 22  FGS - Maintain a physical office with at least one staff (full or part time)                                   9 non-null      object \n",
            " 23  FGS - Actively work in (in the last 12 months), but do not maintain office /staff full or part time            2 non-null      object \n",
            " 24  FGS - Do not actively work                                                                                     2 non-null      object \n",
            "dtypes: float64(1), object(24)\n",
            "memory usage: 6.0+ KB\n"
          ]
        }
      ]
    },
    {
      "cell_type": "code",
      "source": [
        "somalia_melt1 = pd.melt(somalia1, id_vars=['Unnamed: 0']).dropna(subset=\"value\")"
      ],
      "metadata": {
        "id": "oFlIZfwHGHP4"
      },
      "execution_count": null,
      "outputs": []
    },
    {
      "cell_type": "code",
      "source": [
        "somalia_melt1['variable'] = somalia_melt1['variable'].str.split(\"-\").str[0].str.strip()"
      ],
      "metadata": {
        "id": "cruHtHHMHp7r"
      },
      "execution_count": null,
      "outputs": []
    },
    {
      "cell_type": "code",
      "source": [
        "somalia_melt1.columns = ['Respondent', 'State', 'Activity']"
      ],
      "metadata": {
        "id": "VJ_14GIvI0dR"
      },
      "execution_count": null,
      "outputs": []
    },
    {
      "cell_type": "code",
      "source": [
        "somalia2 = pd.concat([somalia.iloc[:, 0], somalia.iloc[:, 25:]], axis = 1)\n",
        "somalia2 =  pd.melt(somalia2, id_vars=['Unnamed: 0']).dropna(subset=\"value\")"
      ],
      "metadata": {
        "id": "3oEFdljFJ_El"
      },
      "execution_count": null,
      "outputs": []
    },
    {
      "cell_type": "code",
      "source": [
        "somalia2.drop('variable', axis=1, inplace=True)"
      ],
      "metadata": {
        "id": "qXBttAjILv7J"
      },
      "execution_count": null,
      "outputs": []
    },
    {
      "cell_type": "code",
      "source": [
        "somalia2.columns = ['Respondent', 'area of work']"
      ],
      "metadata": {
        "id": "mvSZEOQvMMfG"
      },
      "execution_count": null,
      "outputs": []
    },
    {
      "cell_type": "code",
      "source": [
        "final_dataset = pd.merge(somalia_melt1, somalia2)"
      ],
      "metadata": {
        "id": "8n9Zo31pMoTK"
      },
      "execution_count": null,
      "outputs": []
    },
    {
      "cell_type": "code",
      "source": [
        "final_dataset.apply(lambda x: x.astype(str).str.upper())"
      ],
      "metadata": {
        "colab": {
          "base_uri": "https://localhost:8080/",
          "height": 424
        },
        "id": "hji6dfL4NB_V",
        "outputId": "6a7e885b-4fa6-4ae8-fc7a-9575f2a36976"
      },
      "execution_count": null,
      "outputs": [
        {
          "output_type": "execute_result",
          "data": {
            "text/plain": [
              "     Respondent          State  \\\n",
              "0         NGO 1       GALMUDUG   \n",
              "1         NGO 1       GALMUDUG   \n",
              "2         NGO 1       PUNTLAND   \n",
              "3         NGO 1       PUNTLAND   \n",
              "4         NGO 5       GALMUDUG   \n",
              "...         ...            ...   \n",
              "1048     NGO 23  MOGADISHU/BRA   \n",
              "1049     NGO 23  MOGADISHU/BRA   \n",
              "1050     NGO 23  MOGADISHU/BRA   \n",
              "1051     NGO 23  MOGADISHU/BRA   \n",
              "1052     NGO 23  MOGADISHU/BRA   \n",
              "\n",
              "                                               Activity  \\\n",
              "0     MAINTAIN A PHYSICAL OFFICE WITH AT LEAST ONE S...   \n",
              "1     MAINTAIN A PHYSICAL OFFICE WITH AT LEAST ONE S...   \n",
              "2     ACTIVELY WORK IN (IN THE LAST 12 MONTHS), BUT ...   \n",
              "3     ACTIVELY WORK IN (IN THE LAST 12 MONTHS), BUT ...   \n",
              "4     MAINTAIN A PHYSICAL OFFICE WITH AT LEAST ONE S...   \n",
              "...                                                 ...   \n",
              "1048  MAINTAIN A PHYSICAL OFFICE WITH AT LEAST ONE S...   \n",
              "1049  MAINTAIN A PHYSICAL OFFICE WITH AT LEAST ONE S...   \n",
              "1050  MAINTAIN A PHYSICAL OFFICE WITH AT LEAST ONE S...   \n",
              "1051  MAINTAIN A PHYSICAL OFFICE WITH AT LEAST ONE S...   \n",
              "1052  MAINTAIN A PHYSICAL OFFICE WITH AT LEAST ONE S...   \n",
              "\n",
              "                             area of work  \n",
              "0       DISPLACEMENT AFFECTED POPULATIONS  \n",
              "1               FOOD SECURITY & NUTRITION  \n",
              "2       DISPLACEMENT AFFECTED POPULATIONS  \n",
              "3               FOOD SECURITY & NUTRITION  \n",
              "4                          CASH TRANSFERS  \n",
              "...                                   ...  \n",
              "1048    DISPLACEMENT AFFECTED POPULATIONS  \n",
              "1049            FOOD SECURITY & NUTRITION  \n",
              "1050                          LIVELIHOODS  \n",
              "1051                                 WASH  \n",
              "1052  HOUSING LAND AND PROPERTIES RIGHTS   \n",
              "\n",
              "[1053 rows x 4 columns]"
            ],
            "text/html": [
              "\n",
              "  <div id=\"df-46f4b924-b730-490d-b9c1-16e8955b3e89\">\n",
              "    <div class=\"colab-df-container\">\n",
              "      <div>\n",
              "<style scoped>\n",
              "    .dataframe tbody tr th:only-of-type {\n",
              "        vertical-align: middle;\n",
              "    }\n",
              "\n",
              "    .dataframe tbody tr th {\n",
              "        vertical-align: top;\n",
              "    }\n",
              "\n",
              "    .dataframe thead th {\n",
              "        text-align: right;\n",
              "    }\n",
              "</style>\n",
              "<table border=\"1\" class=\"dataframe\">\n",
              "  <thead>\n",
              "    <tr style=\"text-align: right;\">\n",
              "      <th></th>\n",
              "      <th>Respondent</th>\n",
              "      <th>State</th>\n",
              "      <th>Activity</th>\n",
              "      <th>area of work</th>\n",
              "    </tr>\n",
              "  </thead>\n",
              "  <tbody>\n",
              "    <tr>\n",
              "      <th>0</th>\n",
              "      <td>NGO 1</td>\n",
              "      <td>GALMUDUG</td>\n",
              "      <td>MAINTAIN A PHYSICAL OFFICE WITH AT LEAST ONE S...</td>\n",
              "      <td>DISPLACEMENT AFFECTED POPULATIONS</td>\n",
              "    </tr>\n",
              "    <tr>\n",
              "      <th>1</th>\n",
              "      <td>NGO 1</td>\n",
              "      <td>GALMUDUG</td>\n",
              "      <td>MAINTAIN A PHYSICAL OFFICE WITH AT LEAST ONE S...</td>\n",
              "      <td>FOOD SECURITY &amp; NUTRITION</td>\n",
              "    </tr>\n",
              "    <tr>\n",
              "      <th>2</th>\n",
              "      <td>NGO 1</td>\n",
              "      <td>PUNTLAND</td>\n",
              "      <td>ACTIVELY WORK IN (IN THE LAST 12 MONTHS), BUT ...</td>\n",
              "      <td>DISPLACEMENT AFFECTED POPULATIONS</td>\n",
              "    </tr>\n",
              "    <tr>\n",
              "      <th>3</th>\n",
              "      <td>NGO 1</td>\n",
              "      <td>PUNTLAND</td>\n",
              "      <td>ACTIVELY WORK IN (IN THE LAST 12 MONTHS), BUT ...</td>\n",
              "      <td>FOOD SECURITY &amp; NUTRITION</td>\n",
              "    </tr>\n",
              "    <tr>\n",
              "      <th>4</th>\n",
              "      <td>NGO 5</td>\n",
              "      <td>GALMUDUG</td>\n",
              "      <td>MAINTAIN A PHYSICAL OFFICE WITH AT LEAST ONE S...</td>\n",
              "      <td>CASH TRANSFERS</td>\n",
              "    </tr>\n",
              "    <tr>\n",
              "      <th>...</th>\n",
              "      <td>...</td>\n",
              "      <td>...</td>\n",
              "      <td>...</td>\n",
              "      <td>...</td>\n",
              "    </tr>\n",
              "    <tr>\n",
              "      <th>1048</th>\n",
              "      <td>NGO 23</td>\n",
              "      <td>MOGADISHU/BRA</td>\n",
              "      <td>MAINTAIN A PHYSICAL OFFICE WITH AT LEAST ONE S...</td>\n",
              "      <td>DISPLACEMENT AFFECTED POPULATIONS</td>\n",
              "    </tr>\n",
              "    <tr>\n",
              "      <th>1049</th>\n",
              "      <td>NGO 23</td>\n",
              "      <td>MOGADISHU/BRA</td>\n",
              "      <td>MAINTAIN A PHYSICAL OFFICE WITH AT LEAST ONE S...</td>\n",
              "      <td>FOOD SECURITY &amp; NUTRITION</td>\n",
              "    </tr>\n",
              "    <tr>\n",
              "      <th>1050</th>\n",
              "      <td>NGO 23</td>\n",
              "      <td>MOGADISHU/BRA</td>\n",
              "      <td>MAINTAIN A PHYSICAL OFFICE WITH AT LEAST ONE S...</td>\n",
              "      <td>LIVELIHOODS</td>\n",
              "    </tr>\n",
              "    <tr>\n",
              "      <th>1051</th>\n",
              "      <td>NGO 23</td>\n",
              "      <td>MOGADISHU/BRA</td>\n",
              "      <td>MAINTAIN A PHYSICAL OFFICE WITH AT LEAST ONE S...</td>\n",
              "      <td>WASH</td>\n",
              "    </tr>\n",
              "    <tr>\n",
              "      <th>1052</th>\n",
              "      <td>NGO 23</td>\n",
              "      <td>MOGADISHU/BRA</td>\n",
              "      <td>MAINTAIN A PHYSICAL OFFICE WITH AT LEAST ONE S...</td>\n",
              "      <td>HOUSING LAND AND PROPERTIES RIGHTS</td>\n",
              "    </tr>\n",
              "  </tbody>\n",
              "</table>\n",
              "<p>1053 rows × 4 columns</p>\n",
              "</div>\n",
              "      <button class=\"colab-df-convert\" onclick=\"convertToInteractive('df-46f4b924-b730-490d-b9c1-16e8955b3e89')\"\n",
              "              title=\"Convert this dataframe to an interactive table.\"\n",
              "              style=\"display:none;\">\n",
              "        \n",
              "  <svg xmlns=\"http://www.w3.org/2000/svg\" height=\"24px\"viewBox=\"0 0 24 24\"\n",
              "       width=\"24px\">\n",
              "    <path d=\"M0 0h24v24H0V0z\" fill=\"none\"/>\n",
              "    <path d=\"M18.56 5.44l.94 2.06.94-2.06 2.06-.94-2.06-.94-.94-2.06-.94 2.06-2.06.94zm-11 1L8.5 8.5l.94-2.06 2.06-.94-2.06-.94L8.5 2.5l-.94 2.06-2.06.94zm10 10l.94 2.06.94-2.06 2.06-.94-2.06-.94-.94-2.06-.94 2.06-2.06.94z\"/><path d=\"M17.41 7.96l-1.37-1.37c-.4-.4-.92-.59-1.43-.59-.52 0-1.04.2-1.43.59L10.3 9.45l-7.72 7.72c-.78.78-.78 2.05 0 2.83L4 21.41c.39.39.9.59 1.41.59.51 0 1.02-.2 1.41-.59l7.78-7.78 2.81-2.81c.8-.78.8-2.07 0-2.86zM5.41 20L4 18.59l7.72-7.72 1.47 1.35L5.41 20z\"/>\n",
              "  </svg>\n",
              "      </button>\n",
              "      \n",
              "  <style>\n",
              "    .colab-df-container {\n",
              "      display:flex;\n",
              "      flex-wrap:wrap;\n",
              "      gap: 12px;\n",
              "    }\n",
              "\n",
              "    .colab-df-convert {\n",
              "      background-color: #E8F0FE;\n",
              "      border: none;\n",
              "      border-radius: 50%;\n",
              "      cursor: pointer;\n",
              "      display: none;\n",
              "      fill: #1967D2;\n",
              "      height: 32px;\n",
              "      padding: 0 0 0 0;\n",
              "      width: 32px;\n",
              "    }\n",
              "\n",
              "    .colab-df-convert:hover {\n",
              "      background-color: #E2EBFA;\n",
              "      box-shadow: 0px 1px 2px rgba(60, 64, 67, 0.3), 0px 1px 3px 1px rgba(60, 64, 67, 0.15);\n",
              "      fill: #174EA6;\n",
              "    }\n",
              "\n",
              "    [theme=dark] .colab-df-convert {\n",
              "      background-color: #3B4455;\n",
              "      fill: #D2E3FC;\n",
              "    }\n",
              "\n",
              "    [theme=dark] .colab-df-convert:hover {\n",
              "      background-color: #434B5C;\n",
              "      box-shadow: 0px 1px 3px 1px rgba(0, 0, 0, 0.15);\n",
              "      filter: drop-shadow(0px 1px 2px rgba(0, 0, 0, 0.3));\n",
              "      fill: #FFFFFF;\n",
              "    }\n",
              "  </style>\n",
              "\n",
              "      <script>\n",
              "        const buttonEl =\n",
              "          document.querySelector('#df-46f4b924-b730-490d-b9c1-16e8955b3e89 button.colab-df-convert');\n",
              "        buttonEl.style.display =\n",
              "          google.colab.kernel.accessAllowed ? 'block' : 'none';\n",
              "\n",
              "        async function convertToInteractive(key) {\n",
              "          const element = document.querySelector('#df-46f4b924-b730-490d-b9c1-16e8955b3e89');\n",
              "          const dataTable =\n",
              "            await google.colab.kernel.invokeFunction('convertToInteractive',\n",
              "                                                     [key], {});\n",
              "          if (!dataTable) return;\n",
              "\n",
              "          const docLinkHtml = 'Like what you see? Visit the ' +\n",
              "            '<a target=\"_blank\" href=https://colab.research.google.com/notebooks/data_table.ipynb>data table notebook</a>'\n",
              "            + ' to learn more about interactive tables.';\n",
              "          element.innerHTML = '';\n",
              "          dataTable['output_type'] = 'display_data';\n",
              "          await google.colab.output.renderOutput(dataTable, element);\n",
              "          const docLink = document.createElement('div');\n",
              "          docLink.innerHTML = docLinkHtml;\n",
              "          element.appendChild(docLink);\n",
              "        }\n",
              "      </script>\n",
              "    </div>\n",
              "  </div>\n",
              "  "
            ]
          },
          "metadata": {},
          "execution_count": 52
        }
      ]
    },
    {
      "cell_type": "code",
      "source": [
        "final_dataset.to_excel(\"/content/drive/MyDrive/Upwork/Somalia survey.xlsx\")"
      ],
      "metadata": {
        "id": "xpk8MkOMN911"
      },
      "execution_count": null,
      "outputs": []
    }
  ]
}